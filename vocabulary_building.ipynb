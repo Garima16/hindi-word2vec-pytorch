{
 "cells": [
  {
   "cell_type": "code",
   "execution_count": 10,
   "metadata": {},
   "outputs": [],
   "source": [
    "import json"
   ]
  },
  {
   "cell_type": "code",
   "execution_count": 3,
   "metadata": {},
   "outputs": [],
   "source": [
    "corpus_path = '../../Dataset/monolingual.hi'"
   ]
  },
  {
   "cell_type": "code",
   "execution_count": 4,
   "metadata": {},
   "outputs": [],
   "source": [
    "with open(corpus_path, 'r') as file:\n",
    "    data = file.read()[:10000000]"
   ]
  },
  {
   "cell_type": "code",
   "execution_count": 19,
   "metadata": {},
   "outputs": [],
   "source": [
    "class Data:\n",
    "    def __init__(self, context_size):\n",
    "        \n",
    "        self.context_size = context_size\n",
    "        \n",
    "        self.word2idx = {}  # word:[id, frequency]\n",
    "        self.idx2word = {}  # id:word mapping\n",
    "        self.corpus_idx = []  # represent words in corpus as numbers,store unique index for each word in corpus\n",
    "        self.voc_size = 1\n",
    "        \n",
    "    def extract_unique_words(self, lines, threshold=10):\n",
    "        for line in lines:\n",
    "            for word in line.split():\n",
    "                try:\n",
    "                    self.corpus_idx.append(self.word2idx[word][0])  # store corr id already saved in word2idx\n",
    "                    self.word2idx[word][1] += 1  # increase the word frequency\n",
    "\n",
    "                except KeyError:\n",
    "                    self.word2idx[word] = [self.voc_size, 1]\n",
    "                    self.corpus_idx.append(self.word2idx[word][0])\n",
    "                    # first index of the value's list stores the word 2 index mapping and 2nd stores the frequency\n",
    "                    self.voc_size += 1\n",
    "\n",
    "        for word in list(self.word2idx.keys()):\n",
    "            # if word frequency is above threshold, replace the word key's value with its id\n",
    "            if self.word2idx[word][1] >= threshold:\n",
    "                self.word2idx[word] = self.word2idx[word][0]\n",
    "            else:\n",
    "                del self.word2idx[word] # delete infrequent items\n",
    "\n",
    "        self.idx2word = {idx:word for word,idx in self.word2idx.items()}\n",
    "        \n",
    "        # in corpus_idx, only keep those indices which are present in idx2word dict(indices corr to frequent words)\n",
    "        self.corpus_idx = [ind for ind in self.corpus_idx if ind in self.idx2word]\n",
    "        self.voc_size = len(self.word2idx)\n",
    "        print(\"vocabulary size : {}, truncated corpus size : {}\".format(\n",
    "            self.voc_size,\n",
    "            len(self.corpus_idx),\n",
    "        ))\n",
    "        \n",
    "        with open(\"words_in_vocab.txt\", 'w') as file:\n",
    "            file.write(str(self.voc_size))\n",
    "            for word in self.word2idx.keys():\n",
    "                file.write(word)\n",
    "                file.write('\\n') \n",
    "        \n",
    "        with open('word2idx.json', 'w') as file1, open('idx2word.json', 'w') as file2:\n",
    "            json.dump(self.word2idx, file1)\n",
    "            json.dump(self.idx2word, file2)\n",
    "        \n",
    "    def generate_trg_data(self):\n",
    "        corpus_size = len(self.corpus_idx)\n",
    "        with open('training_data.txt', 'w') as file:\n",
    "            for center_word_pos in range(corpus_size):\n",
    "                for context_pos in range(-self.context_size, self.context_size+1):\n",
    "                    context_word_pos = center_word_pos + context_pos \n",
    "                    if context_word_pos >= 0 and\\\n",
    "                    context_word_pos < corpus_size and\\\n",
    "                    context_pos != 0:\n",
    "#                         print(\"positions : \", center_word_pos, center_word_pos + context_pos)\n",
    "                        pair = str(self.corpus_idx[center_word_pos]) + '\\t' +\\\n",
    "                        str(self.corpus_idx[context_word_pos]) + '\\n'\n",
    "                        file.write(pair)"
   ]
  },
  {
   "cell_type": "code",
   "execution_count": 7,
   "metadata": {},
   "outputs": [],
   "source": [
    "lines = data.split('\\n')"
   ]
  },
  {
   "cell_type": "code",
   "execution_count": 17,
   "metadata": {},
   "outputs": [],
   "source": [
    "context_size = 2"
   ]
  },
  {
   "cell_type": "code",
   "execution_count": 20,
   "metadata": {},
   "outputs": [
    {
     "name": "stdout",
     "output_type": "stream",
     "text": [
      "vocabulary size : 12557, truncated corpus size : 1575620\n"
     ]
    }
   ],
   "source": [
    "data = Data(context_size)\n",
    "data.extract_unique_words(lines)\n",
    "data.generate_trg_data()"
   ]
  }
 ],
 "metadata": {
  "kernelspec": {
   "display_name": "Python 3",
   "language": "python",
   "name": "python3"
  },
  "language_info": {
   "codemirror_mode": {
    "name": "ipython",
    "version": 3
   },
   "file_extension": ".py",
   "mimetype": "text/x-python",
   "name": "python",
   "nbconvert_exporter": "python",
   "pygments_lexer": "ipython3",
   "version": "3.6.8"
  }
 },
 "nbformat": 4,
 "nbformat_minor": 2
}
